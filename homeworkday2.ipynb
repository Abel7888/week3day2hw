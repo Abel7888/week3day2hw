{
 "cells": [
  {
   "cell_type": "code",
   "execution_count": 7,
   "metadata": {},
   "outputs": [],
   "source": [
    "# home work day 3\n",
    "### Exercise #1 <br>\n",
    "#<p>Filter out all of the empty strings from the list below</p>\n",
    "\n",
    "#Output: ['Argentina', 'San Diego', 'Boston', 'New York']`"
   ]
  },
  {
   "cell_type": "code",
   "execution_count": 8,
   "metadata": {},
   "outputs": [
    {
     "name": "stdout",
     "output_type": "stream",
     "text": [
      "[' ', 'Argentina', ' ', 'San Diego', '  ', 'Boston', 'New York']\n",
      "[' ', 'Argentina', ' ', 'San Diego', '  ', 'Boston', 'New York']\n",
      "['Argentina', ' ', 'San Diego', '  ', 'Boston', 'New York']\n",
      "['Argentina', 'San Diego', '  ', 'Boston', 'New York']\n"
     ]
    }
   ],
   "source": [
    "places = [\" \",\"Argentina\", \" \", \"San Diego\",\"\",\"  \",\"\",\"Boston\",\"New York\"]\n",
    "# using filter() to\n",
    "# perform removal\n",
    "places = list(filter(None, places))\n",
    "#\n",
    " \n",
    "# Print/ This mehtod I got sample online did not remove the empty strings for for\n",
    "print(str(places))\n",
    "\n",
    "#using while in places remove \" \" gave me the closest outcome\n",
    "\n",
    "while ' ' in places:\n",
    "    places.remove(' ')\n",
    "    print(places)\n",
    "\n"
   ]
  },
  {
   "cell_type": "code",
   "execution_count": 11,
   "metadata": {},
   "outputs": [
    {
     "ename": "TypeError",
     "evalue": "sorted expected 1 argument, got 2",
     "output_type": "error",
     "traceback": [
      "\u001b[1;31m---------------------------------------------------------------------------\u001b[0m",
      "\u001b[1;31mTypeError\u001b[0m                                 Traceback (most recent call last)",
      "Cell \u001b[1;32mIn [11], line 9\u001b[0m\n\u001b[0;32m      1\u001b[0m \u001b[39m### Exercise #2 <br>\u001b[39;00m\n\u001b[0;32m      2\u001b[0m \u001b[39m#<p>Write an anonymous function that sorts this list by the last name...<br><b>Hint: Use the \".sort()\" method and access the key\"</b></p>\u001b[39;00m\n\u001b[0;32m      3\u001b[0m \n\u001b[0;32m      4\u001b[0m \u001b[39m#Output: ['Victor aNisimov', 'Gary A.J. Bernstein', 'Joel Carter', 'Andrew P. Garfield', 'David hassELHOFF']`\u001b[39;00m\n\u001b[0;32m      8\u001b[0m author \u001b[39m=\u001b[39m [\u001b[39m\"\u001b[39m\u001b[39mJoel Carter\u001b[39m\u001b[39m\"\u001b[39m, \u001b[39m\"\u001b[39m\u001b[39mVictor aNisimov\u001b[39m\u001b[39m\"\u001b[39m, \u001b[39m\"\u001b[39m\u001b[39mAndrew P. Garfield\u001b[39m\u001b[39m\"\u001b[39m,\u001b[39m\"\u001b[39m\u001b[39mDavid hassELHOFF\u001b[39m\u001b[39m\"\u001b[39m,\u001b[39m\"\u001b[39m\u001b[39mGary A.J. Bernstein\u001b[39m\u001b[39m\"\u001b[39m]\n\u001b[1;32m----> 9\u001b[0m sortt \u001b[39m=\u001b[39m \u001b[39msorted\u001b[39;49m(author, \u001b[39mlambda\u001b[39;49;00m name: name\u001b[39m.\u001b[39;49msplit(\u001b[39m\"\u001b[39;49m\u001b[39m \u001b[39;49m\u001b[39m\"\u001b[39;49m)[\u001b[39m-\u001b[39;49m\u001b[39m1\u001b[39;49m]\u001b[39m.\u001b[39;49mlower())\n\u001b[0;32m     10\u001b[0m \u001b[39mprint\u001b[39m(sortt)\n",
      "\u001b[1;31mTypeError\u001b[0m: sorted expected 1 argument, got 2"
     ]
    }
   ],
   "source": [
    "### Exercise #2 <br>\n",
    "#<p>Write an anonymous function that sorts this list by the last name...<br><b>Hint: Use the \".sort()\" method and access the key\"</b></p>\n",
    "\n",
    "#Output: ['Victor aNisimov', 'Gary A.J. Bernstein', 'Joel Carter', 'Andrew P. Garfield', 'David hassELHOFF']`\n",
    "\n",
    "# used a sample that worked with this data set. I foced on learnd on how the key function works with lambanda and finding that -1 sorts the list with the last name\n",
    "\n",
    "author = [\"Joel Carter\", \"Victor aNisimov\", \"Andrew P. Garfield\",\"David hassELHOFF\",\"Gary A.J. Bernstein\"]\n",
    "sortt = sorted(author, key=lambda name: name.split(\" \")[-1].lower())\n",
    "print(sortt)"
   ]
  },
  {
   "cell_type": "code",
   "execution_count": null,
   "metadata": {},
   "outputs": [],
   "source": [
    "### Exercise #3 <br>\n",
    "#<p>...</p>Convert the list below from Celsius to Farhenheit, using the map function with a lambda\n",
    "#Output: [('Nashua', 89.6), ('Boston', 53.6), ('Los Angelos', 111.2), ('Miami', 84.2)]"
   ]
  },
  {
   "cell_type": "code",
   "execution_count": 12,
   "metadata": {},
   "outputs": [
    {
     "name": "stdout",
     "output_type": "stream",
     "text": [
      "[('Nashua', 89.6), ('Boston', 53.6), ('Los Angelos', 111.2), ('Miami', 84.2)]\n"
     ]
    }
   ],
   "source": [
    "# F = (9/5)*C + 32\n",
    "newplaces = [('Nashua',32),(\"Boston\",12),(\"Los Angelos\",44),(\"Miami\",29)]\n",
    "#celtofen represets the first and second string and integer with in each tupile# integer [0] represents the first and [1] represents celsius in tupil\n",
    "\n",
    "newplaces = list(map(lambda celtofen:  (celtofen[0], (9/5) * celtofen[1]+ 32), newplaces))\n",
    "print(newplaces)"
   ]
  }
 ],
 "metadata": {
  "kernelspec": {
   "display_name": "Python 3.10.8 64-bit",
   "language": "python",
   "name": "python3"
  },
  "language_info": {
   "codemirror_mode": {
    "name": "ipython",
    "version": 3
   },
   "file_extension": ".py",
   "mimetype": "text/x-python",
   "name": "python",
   "nbconvert_exporter": "python",
   "pygments_lexer": "ipython3",
   "version": "3.10.8"
  },
  "orig_nbformat": 4,
  "vscode": {
   "interpreter": {
    "hash": "c3dcfcd2b4f8e8f0c611c08e622c86a20cb483c2c1ccf36e9cf27065b69ccba9"
   }
  }
 },
 "nbformat": 4,
 "nbformat_minor": 2
}
